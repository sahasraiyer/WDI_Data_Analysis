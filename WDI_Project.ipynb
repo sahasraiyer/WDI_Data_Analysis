{
 "cells": [
  {
   "cell_type": "code",
   "execution_count": 2,
   "metadata": {},
   "outputs": [],
   "source": [
    "import pandas as pd\n",
    "import numpy as np\n",
    "import random\n",
    "import matplotlib.pyplot as plt\n",
    "import math"
   ]
  },
  {
   "cell_type": "code",
   "execution_count": 3,
   "metadata": {},
   "outputs": [
    {
     "data": {
      "text/plain": [
       "(5656458, 6)"
      ]
     },
     "execution_count": 3,
     "metadata": {},
     "output_type": "execute_result"
    }
   ],
   "source": [
    "#Reading the csv file into a dataframe\n",
    "df = pd.read_csv('/Users/sahasraiyer/UCSD Course 1/Week 5/Indicators.csv')\n",
    "df.shape"
   ]
  },
  {
   "cell_type": "code",
   "execution_count": 424,
   "metadata": {},
   "outputs": [
    {
     "data": {
      "text/html": [
       "<div>\n",
       "<style scoped>\n",
       "    .dataframe tbody tr th:only-of-type {\n",
       "        vertical-align: middle;\n",
       "    }\n",
       "\n",
       "    .dataframe tbody tr th {\n",
       "        vertical-align: top;\n",
       "    }\n",
       "\n",
       "    .dataframe thead th {\n",
       "        text-align: right;\n",
       "    }\n",
       "</style>\n",
       "<table border=\"1\" class=\"dataframe\">\n",
       "  <thead>\n",
       "    <tr style=\"text-align: right;\">\n",
       "      <th></th>\n",
       "      <th>CountryName</th>\n",
       "      <th>CountryCode</th>\n",
       "      <th>IndicatorName</th>\n",
       "      <th>IndicatorCode</th>\n",
       "      <th>Year</th>\n",
       "      <th>Value</th>\n",
       "    </tr>\n",
       "  </thead>\n",
       "  <tbody>\n",
       "    <tr>\n",
       "      <th>0</th>\n",
       "      <td>Arab World</td>\n",
       "      <td>ARB</td>\n",
       "      <td>Adolescent fertility rate (births per 1,000 wo...</td>\n",
       "      <td>SP.ADO.TFRT</td>\n",
       "      <td>1960</td>\n",
       "      <td>1.335609e+02</td>\n",
       "    </tr>\n",
       "    <tr>\n",
       "      <th>1</th>\n",
       "      <td>Arab World</td>\n",
       "      <td>ARB</td>\n",
       "      <td>Age dependency ratio (% of working-age populat...</td>\n",
       "      <td>SP.POP.DPND</td>\n",
       "      <td>1960</td>\n",
       "      <td>8.779760e+01</td>\n",
       "    </tr>\n",
       "    <tr>\n",
       "      <th>2</th>\n",
       "      <td>Arab World</td>\n",
       "      <td>ARB</td>\n",
       "      <td>Age dependency ratio, old (% of working-age po...</td>\n",
       "      <td>SP.POP.DPND.OL</td>\n",
       "      <td>1960</td>\n",
       "      <td>6.634579e+00</td>\n",
       "    </tr>\n",
       "    <tr>\n",
       "      <th>3</th>\n",
       "      <td>Arab World</td>\n",
       "      <td>ARB</td>\n",
       "      <td>Age dependency ratio, young (% of working-age ...</td>\n",
       "      <td>SP.POP.DPND.YG</td>\n",
       "      <td>1960</td>\n",
       "      <td>8.102333e+01</td>\n",
       "    </tr>\n",
       "    <tr>\n",
       "      <th>4</th>\n",
       "      <td>Arab World</td>\n",
       "      <td>ARB</td>\n",
       "      <td>Arms exports (SIPRI trend indicator values)</td>\n",
       "      <td>MS.MIL.XPRT.KD</td>\n",
       "      <td>1960</td>\n",
       "      <td>3.000000e+06</td>\n",
       "    </tr>\n",
       "    <tr>\n",
       "      <th>5</th>\n",
       "      <td>Arab World</td>\n",
       "      <td>ARB</td>\n",
       "      <td>Arms imports (SIPRI trend indicator values)</td>\n",
       "      <td>MS.MIL.MPRT.KD</td>\n",
       "      <td>1960</td>\n",
       "      <td>5.380000e+08</td>\n",
       "    </tr>\n",
       "    <tr>\n",
       "      <th>6</th>\n",
       "      <td>Arab World</td>\n",
       "      <td>ARB</td>\n",
       "      <td>Birth rate, crude (per 1,000 people)</td>\n",
       "      <td>SP.DYN.CBRT.IN</td>\n",
       "      <td>1960</td>\n",
       "      <td>4.769789e+01</td>\n",
       "    </tr>\n",
       "    <tr>\n",
       "      <th>7</th>\n",
       "      <td>Arab World</td>\n",
       "      <td>ARB</td>\n",
       "      <td>CO2 emissions (kt)</td>\n",
       "      <td>EN.ATM.CO2E.KT</td>\n",
       "      <td>1960</td>\n",
       "      <td>5.956399e+04</td>\n",
       "    </tr>\n",
       "    <tr>\n",
       "      <th>8</th>\n",
       "      <td>Arab World</td>\n",
       "      <td>ARB</td>\n",
       "      <td>CO2 emissions (metric tons per capita)</td>\n",
       "      <td>EN.ATM.CO2E.PC</td>\n",
       "      <td>1960</td>\n",
       "      <td>6.439635e-01</td>\n",
       "    </tr>\n",
       "    <tr>\n",
       "      <th>9</th>\n",
       "      <td>Arab World</td>\n",
       "      <td>ARB</td>\n",
       "      <td>CO2 emissions from gaseous fuel consumption (%...</td>\n",
       "      <td>EN.ATM.CO2E.GF.ZS</td>\n",
       "      <td>1960</td>\n",
       "      <td>5.041292e+00</td>\n",
       "    </tr>\n",
       "  </tbody>\n",
       "</table>\n",
       "</div>"
      ],
      "text/plain": [
       "  CountryName CountryCode                                      IndicatorName  \\\n",
       "0  Arab World         ARB  Adolescent fertility rate (births per 1,000 wo...   \n",
       "1  Arab World         ARB  Age dependency ratio (% of working-age populat...   \n",
       "2  Arab World         ARB  Age dependency ratio, old (% of working-age po...   \n",
       "3  Arab World         ARB  Age dependency ratio, young (% of working-age ...   \n",
       "4  Arab World         ARB        Arms exports (SIPRI trend indicator values)   \n",
       "5  Arab World         ARB        Arms imports (SIPRI trend indicator values)   \n",
       "6  Arab World         ARB               Birth rate, crude (per 1,000 people)   \n",
       "7  Arab World         ARB                                 CO2 emissions (kt)   \n",
       "8  Arab World         ARB             CO2 emissions (metric tons per capita)   \n",
       "9  Arab World         ARB  CO2 emissions from gaseous fuel consumption (%...   \n",
       "\n",
       "       IndicatorCode  Year         Value  \n",
       "0        SP.ADO.TFRT  1960  1.335609e+02  \n",
       "1        SP.POP.DPND  1960  8.779760e+01  \n",
       "2     SP.POP.DPND.OL  1960  6.634579e+00  \n",
       "3     SP.POP.DPND.YG  1960  8.102333e+01  \n",
       "4     MS.MIL.XPRT.KD  1960  3.000000e+06  \n",
       "5     MS.MIL.MPRT.KD  1960  5.380000e+08  \n",
       "6     SP.DYN.CBRT.IN  1960  4.769789e+01  \n",
       "7     EN.ATM.CO2E.KT  1960  5.956399e+04  \n",
       "8     EN.ATM.CO2E.PC  1960  6.439635e-01  \n",
       "9  EN.ATM.CO2E.GF.ZS  1960  5.041292e+00  "
      ]
     },
     "execution_count": 424,
     "metadata": {},
     "output_type": "execute_result"
    }
   ],
   "source": [
    "df.head(10)"
   ]
  },
  {
   "cell_type": "code",
   "execution_count": 44,
   "metadata": {},
   "outputs": [
    {
     "data": {
      "text/plain": [
       "CountryName      False\n",
       "CountryCode      False\n",
       "IndicatorName    False\n",
       "IndicatorCode    False\n",
       "Year             False\n",
       "Value            False\n",
       "dtype: bool"
      ]
     },
     "execution_count": 44,
     "metadata": {},
     "output_type": "execute_result"
    }
   ],
   "source": [
    "#Checking if there are any null values in the dataframe\n",
    "df.isnull().any()"
   ]
  },
  {
   "cell_type": "code",
   "execution_count": 45,
   "metadata": {},
   "outputs": [
    {
     "data": {
      "text/html": [
       "<div>\n",
       "<style scoped>\n",
       "    .dataframe tbody tr th:only-of-type {\n",
       "        vertical-align: middle;\n",
       "    }\n",
       "\n",
       "    .dataframe tbody tr th {\n",
       "        vertical-align: top;\n",
       "    }\n",
       "\n",
       "    .dataframe thead th {\n",
       "        text-align: right;\n",
       "    }\n",
       "</style>\n",
       "<table border=\"1\" class=\"dataframe\">\n",
       "  <thead>\n",
       "    <tr style=\"text-align: right;\">\n",
       "      <th></th>\n",
       "      <th>Year</th>\n",
       "      <th>Value</th>\n",
       "    </tr>\n",
       "  </thead>\n",
       "  <tbody>\n",
       "    <tr>\n",
       "      <th>count</th>\n",
       "      <td>5.656458e+06</td>\n",
       "      <td>5.656458e+06</td>\n",
       "    </tr>\n",
       "    <tr>\n",
       "      <th>mean</th>\n",
       "      <td>1.994464e+03</td>\n",
       "      <td>1.070501e+12</td>\n",
       "    </tr>\n",
       "    <tr>\n",
       "      <th>std</th>\n",
       "      <td>1.387895e+01</td>\n",
       "      <td>4.842469e+13</td>\n",
       "    </tr>\n",
       "    <tr>\n",
       "      <th>min</th>\n",
       "      <td>1.960000e+03</td>\n",
       "      <td>-9.824821e+15</td>\n",
       "    </tr>\n",
       "    <tr>\n",
       "      <th>25%</th>\n",
       "      <td>1.984000e+03</td>\n",
       "      <td>5.566242e+00</td>\n",
       "    </tr>\n",
       "    <tr>\n",
       "      <th>50%</th>\n",
       "      <td>1.997000e+03</td>\n",
       "      <td>6.357450e+01</td>\n",
       "    </tr>\n",
       "    <tr>\n",
       "      <th>75%</th>\n",
       "      <td>2.006000e+03</td>\n",
       "      <td>1.346722e+07</td>\n",
       "    </tr>\n",
       "    <tr>\n",
       "      <th>max</th>\n",
       "      <td>2.015000e+03</td>\n",
       "      <td>1.103367e+16</td>\n",
       "    </tr>\n",
       "  </tbody>\n",
       "</table>\n",
       "</div>"
      ],
      "text/plain": [
       "               Year         Value\n",
       "count  5.656458e+06  5.656458e+06\n",
       "mean   1.994464e+03  1.070501e+12\n",
       "std    1.387895e+01  4.842469e+13\n",
       "min    1.960000e+03 -9.824821e+15\n",
       "25%    1.984000e+03  5.566242e+00\n",
       "50%    1.997000e+03  6.357450e+01\n",
       "75%    2.006000e+03  1.346722e+07\n",
       "max    2.015000e+03  1.103367e+16"
      ]
     },
     "execution_count": 45,
     "metadata": {},
     "output_type": "execute_result"
    }
   ],
   "source": [
    "#Computing basic statistical information for the dataset\n",
    "df.describe()"
   ]
  },
  {
   "cell_type": "code",
   "execution_count": 46,
   "metadata": {},
   "outputs": [],
   "source": [
    "#Life expectancy for all countries, for female, male and total population\n",
    "life_expectancy_f = df[df['IndicatorName'] == \"Life expectancy at birth, female (years)\"]\n",
    "life_expectancy_m = df[df['IndicatorName'] == \"Life expectancy at birth, male (years)\"]\n",
    "life_expectancy_total = df[df['IndicatorName'] == \"Life expectancy at birth, total (years)\"]"
   ]
  },
  {
   "cell_type": "code",
   "execution_count": 47,
   "metadata": {},
   "outputs": [
    {
     "data": {
      "text/html": [
       "<div>\n",
       "<style scoped>\n",
       "    .dataframe tbody tr th:only-of-type {\n",
       "        vertical-align: middle;\n",
       "    }\n",
       "\n",
       "    .dataframe tbody tr th {\n",
       "        vertical-align: top;\n",
       "    }\n",
       "\n",
       "    .dataframe thead th {\n",
       "        text-align: right;\n",
       "    }\n",
       "</style>\n",
       "<table border=\"1\" class=\"dataframe\">\n",
       "  <thead>\n",
       "    <tr style=\"text-align: right;\">\n",
       "      <th></th>\n",
       "      <th>CountryName</th>\n",
       "      <th>CountryCode</th>\n",
       "      <th>IndicatorName</th>\n",
       "      <th>IndicatorCode</th>\n",
       "      <th>Year</th>\n",
       "      <th>Value</th>\n",
       "    </tr>\n",
       "  </thead>\n",
       "  <tbody>\n",
       "    <tr>\n",
       "      <th>20</th>\n",
       "      <td>Arab World</td>\n",
       "      <td>ARB</td>\n",
       "      <td>Life expectancy at birth, female (years)</td>\n",
       "      <td>SP.DYN.LE00.FE.IN</td>\n",
       "      <td>1960</td>\n",
       "      <td>47.883246</td>\n",
       "    </tr>\n",
       "    <tr>\n",
       "      <th>101</th>\n",
       "      <td>Caribbean small states</td>\n",
       "      <td>CSS</td>\n",
       "      <td>Life expectancy at birth, female (years)</td>\n",
       "      <td>SP.DYN.LE00.FE.IN</td>\n",
       "      <td>1960</td>\n",
       "      <td>64.307102</td>\n",
       "    </tr>\n",
       "    <tr>\n",
       "      <th>186</th>\n",
       "      <td>Central Europe and the Baltics</td>\n",
       "      <td>CEB</td>\n",
       "      <td>Life expectancy at birth, female (years)</td>\n",
       "      <td>SP.DYN.LE00.FE.IN</td>\n",
       "      <td>1960</td>\n",
       "      <td>70.367730</td>\n",
       "    </tr>\n",
       "    <tr>\n",
       "      <th>280</th>\n",
       "      <td>East Asia &amp; Pacific (all income levels)</td>\n",
       "      <td>EAS</td>\n",
       "      <td>Life expectancy at birth, female (years)</td>\n",
       "      <td>SP.DYN.LE00.FE.IN</td>\n",
       "      <td>1960</td>\n",
       "      <td>50.112757</td>\n",
       "    </tr>\n",
       "    <tr>\n",
       "      <th>398</th>\n",
       "      <td>East Asia &amp; Pacific (developing only)</td>\n",
       "      <td>EAP</td>\n",
       "      <td>Life expectancy at birth, female (years)</td>\n",
       "      <td>SP.DYN.LE00.FE.IN</td>\n",
       "      <td>1960</td>\n",
       "      <td>47.359607</td>\n",
       "    </tr>\n",
       "  </tbody>\n",
       "</table>\n",
       "</div>"
      ],
      "text/plain": [
       "                                 CountryName CountryCode  \\\n",
       "20                                Arab World         ARB   \n",
       "101                   Caribbean small states         CSS   \n",
       "186           Central Europe and the Baltics         CEB   \n",
       "280  East Asia & Pacific (all income levels)         EAS   \n",
       "398    East Asia & Pacific (developing only)         EAP   \n",
       "\n",
       "                                IndicatorName      IndicatorCode  Year  \\\n",
       "20   Life expectancy at birth, female (years)  SP.DYN.LE00.FE.IN  1960   \n",
       "101  Life expectancy at birth, female (years)  SP.DYN.LE00.FE.IN  1960   \n",
       "186  Life expectancy at birth, female (years)  SP.DYN.LE00.FE.IN  1960   \n",
       "280  Life expectancy at birth, female (years)  SP.DYN.LE00.FE.IN  1960   \n",
       "398  Life expectancy at birth, female (years)  SP.DYN.LE00.FE.IN  1960   \n",
       "\n",
       "         Value  \n",
       "20   47.883246  \n",
       "101  64.307102  \n",
       "186  70.367730  \n",
       "280  50.112757  \n",
       "398  47.359607  "
      ]
     },
     "execution_count": 47,
     "metadata": {},
     "output_type": "execute_result"
    }
   ],
   "source": [
    "life_expectancy_f.head()"
   ]
  },
  {
   "cell_type": "code",
   "execution_count": 48,
   "metadata": {},
   "outputs": [
    {
     "data": {
      "image/png": "[encoded data removed]",
      "text/plain": [
       "<Figure size 432x288 with 1 Axes>"
      ]
     },
     "metadata": {
      "needs_background": "light"
     },
     "output_type": "display_data"
    }
   ],
   "source": [
    "#Line graph depicting trend for all three groups over the years\n",
    "life_expectancy_f.groupby('Year')['Value'].mean().plot(label=\"Men\")\n",
    "life_expectancy_m.groupby('Year')['Value'].mean().plot(label=\"Women\")\n",
    "life_expectancy_total.groupby('Year')['Value'].mean().plot(label=\"Total\")\n",
    "plt.xlabel(\"Year\")\n",
    "plt.ylabel(\"Mean of age\")\n",
    "plt.title(\"Life Expectancy Mean Over the Years\")\n",
    "plt.legend()\n",
    "plt.show()"
   ]
  },
  {
   "cell_type": "code",
   "execution_count": 58,
   "metadata": {},
   "outputs": [
    {
     "data": {
      "text/html": [
       "<div>\n",
       "<style scoped>\n",
       "    .dataframe tbody tr th:only-of-type {\n",
       "        vertical-align: middle;\n",
       "    }\n",
       "\n",
       "    .dataframe tbody tr th {\n",
       "        vertical-align: top;\n",
       "    }\n",
       "\n",
       "    .dataframe thead th {\n",
       "        text-align: right;\n",
       "    }\n",
       "</style>\n",
       "<table border=\"1\" class=\"dataframe\">\n",
       "  <thead>\n",
       "    <tr style=\"text-align: right;\">\n",
       "      <th></th>\n",
       "      <th>CountryName</th>\n",
       "      <th>CountryCode</th>\n",
       "      <th>IndicatorName</th>\n",
       "      <th>IndicatorCode</th>\n",
       "      <th>Year</th>\n",
       "      <th>Value</th>\n",
       "    </tr>\n",
       "  </thead>\n",
       "  <tbody>\n",
       "    <tr>\n",
       "      <th>50</th>\n",
       "      <td>Arab World</td>\n",
       "      <td>ARB</td>\n",
       "      <td>Mortality rate, adult, female (per 1,000 femal...</td>\n",
       "      <td>SP.DYN.AMRT.FE</td>\n",
       "      <td>1960</td>\n",
       "      <td>298.935703</td>\n",
       "    </tr>\n",
       "    <tr>\n",
       "      <th>131</th>\n",
       "      <td>Caribbean small states</td>\n",
       "      <td>CSS</td>\n",
       "      <td>Mortality rate, adult, female (per 1,000 femal...</td>\n",
       "      <td>SP.DYN.AMRT.FE</td>\n",
       "      <td>1960</td>\n",
       "      <td>201.475579</td>\n",
       "    </tr>\n",
       "    <tr>\n",
       "      <th>211</th>\n",
       "      <td>Central Europe and the Baltics</td>\n",
       "      <td>CEB</td>\n",
       "      <td>Mortality rate, adult, female (per 1,000 femal...</td>\n",
       "      <td>SP.DYN.AMRT.FE</td>\n",
       "      <td>1960</td>\n",
       "      <td>124.749727</td>\n",
       "    </tr>\n",
       "    <tr>\n",
       "      <th>310</th>\n",
       "      <td>East Asia &amp; Pacific (all income levels)</td>\n",
       "      <td>EAS</td>\n",
       "      <td>Mortality rate, adult, female (per 1,000 femal...</td>\n",
       "      <td>SP.DYN.AMRT.FE</td>\n",
       "      <td>1960</td>\n",
       "      <td>326.366329</td>\n",
       "    </tr>\n",
       "    <tr>\n",
       "      <th>430</th>\n",
       "      <td>East Asia &amp; Pacific (developing only)</td>\n",
       "      <td>EAP</td>\n",
       "      <td>Mortality rate, adult, female (per 1,000 femal...</td>\n",
       "      <td>SP.DYN.AMRT.FE</td>\n",
       "      <td>1960</td>\n",
       "      <td>353.252556</td>\n",
       "    </tr>\n",
       "  </tbody>\n",
       "</table>\n",
       "</div>"
      ],
      "text/plain": [
       "                                 CountryName CountryCode  \\\n",
       "50                                Arab World         ARB   \n",
       "131                   Caribbean small states         CSS   \n",
       "211           Central Europe and the Baltics         CEB   \n",
       "310  East Asia & Pacific (all income levels)         EAS   \n",
       "430    East Asia & Pacific (developing only)         EAP   \n",
       "\n",
       "                                         IndicatorName   IndicatorCode  Year  \\\n",
       "50   Mortality rate, adult, female (per 1,000 femal...  SP.DYN.AMRT.FE  1960   \n",
       "131  Mortality rate, adult, female (per 1,000 femal...  SP.DYN.AMRT.FE  1960   \n",
       "211  Mortality rate, adult, female (per 1,000 femal...  SP.DYN.AMRT.FE  1960   \n",
       "310  Mortality rate, adult, female (per 1,000 femal...  SP.DYN.AMRT.FE  1960   \n",
       "430  Mortality rate, adult, female (per 1,000 femal...  SP.DYN.AMRT.FE  1960   \n",
       "\n",
       "          Value  \n",
       "50   298.935703  \n",
       "131  201.475579  \n",
       "211  124.749727  \n",
       "310  326.366329  \n",
       "430  353.252556  "
      ]
     },
     "execution_count": 58,
     "metadata": {},
     "output_type": "execute_result"
    }
   ],
   "source": [
    "#Mortality rate for all countries, for female, male and total population\n",
    "mortality_rate_f = df[df['IndicatorName'] == \"Mortality rate, adult, female (per 1,000 female adults)\"]\n",
    "mortality_rate_m = df[df['IndicatorName'] == \"Mortality rate, adult, male (per 1,000 male adults)\"]\n",
    "mortality_rate_total = df[df['IndicatorName'] == \"Mortality rate, infant (per 1,000 live births)\"]\n",
    "mortality_rate_f.head()"
   ]
  },
  {
   "cell_type": "code",
   "execution_count": 59,
   "metadata": {},
   "outputs": [
    {
     "data": {
      "text/plain": [
       "Text(0.5, 1.0, 'Mortality Mean Over the Years')"
      ]
     },
     "execution_count": 59,
     "metadata": {},
     "output_type": "execute_result"
    },
    {
     "data": {
      "image/png": "[encoded data removed]",
      "text/plain": [
       "<Figure size 432x288 with 1 Axes>"
      ]
     },
     "metadata": {
      "needs_background": "light"
     },
     "output_type": "display_data"
    }
   ],
   "source": [
    "#Line graph depicting trend for all three groups over the years\n",
    "mortality_rate_f.groupby('Year')['Value'].mean().plot(label=\"Women\")\n",
    "mortality_rate_m.groupby('Year')['Value'].mean().plot(label=\"Men\")\n",
    "mortality_rate_total.groupby('Year')['Value'].mean().plot(label=\"Total\")\n",
    "plt.xlabel(\"Year\")\n",
    "plt.ylabel(\"Mean of world mortality numbers\")\n",
    "plt.legend()\n",
    "plt.title(\"Mortality Mean Over the Years\")"
   ]
  },
  {
   "cell_type": "markdown",
   "metadata": {},
   "source": [
    "#### Mortality rate is a measure of the frequency of occurrence of death in a defined population during a specified interval.\n",
    "\n",
    "\n",
    "#### Life expectancy and mortality rate agree with each other. "
   ]
  },
  {
   "cell_type": "code",
   "execution_count": 60,
   "metadata": {},
   "outputs": [],
   "source": [
    "#Checking for the Pearson's Coe-fficient between mortality rate and life expectancy\n",
    "mortality_and_life_expectancy = life_expectancy_total.merge(mortality_rate_total, on = ['CountryCode','Year'], how = \"inner\")\n"
   ]
  },
  {
   "cell_type": "code",
   "execution_count": 61,
   "metadata": {},
   "outputs": [
    {
     "data": {
      "text/html": [
       "<div>\n",
       "<style scoped>\n",
       "    .dataframe tbody tr th:only-of-type {\n",
       "        vertical-align: middle;\n",
       "    }\n",
       "\n",
       "    .dataframe tbody tr th {\n",
       "        vertical-align: top;\n",
       "    }\n",
       "\n",
       "    .dataframe thead th {\n",
       "        text-align: right;\n",
       "    }\n",
       "</style>\n",
       "<table border=\"1\" class=\"dataframe\">\n",
       "  <thead>\n",
       "    <tr style=\"text-align: right;\">\n",
       "      <th></th>\n",
       "      <th>CountryName_x</th>\n",
       "      <th>CountryCode</th>\n",
       "      <th>IndicatorName_x</th>\n",
       "      <th>IndicatorCode_x</th>\n",
       "      <th>Year</th>\n",
       "      <th>Value_x</th>\n",
       "      <th>CountryName_y</th>\n",
       "      <th>IndicatorName_y</th>\n",
       "      <th>IndicatorCode_y</th>\n",
       "      <th>Value_y</th>\n",
       "    </tr>\n",
       "  </thead>\n",
       "  <tbody>\n",
       "    <tr>\n",
       "      <th>0</th>\n",
       "      <td>Arab World</td>\n",
       "      <td>ARB</td>\n",
       "      <td>Life expectancy at birth, total (years)</td>\n",
       "      <td>SP.DYN.LE00.IN</td>\n",
       "      <td>1960</td>\n",
       "      <td>46.847059</td>\n",
       "      <td>Arab World</td>\n",
       "      <td>Mortality rate, infant (per 1,000 live births)</td>\n",
       "      <td>SP.DYN.IMRT.IN</td>\n",
       "      <td>159.950234</td>\n",
       "    </tr>\n",
       "    <tr>\n",
       "      <th>1</th>\n",
       "      <td>Caribbean small states</td>\n",
       "      <td>CSS</td>\n",
       "      <td>Life expectancy at birth, total (years)</td>\n",
       "      <td>SP.DYN.LE00.IN</td>\n",
       "      <td>1960</td>\n",
       "      <td>62.271795</td>\n",
       "      <td>Caribbean small states</td>\n",
       "      <td>Mortality rate, infant (per 1,000 live births)</td>\n",
       "      <td>SP.DYN.IMRT.IN</td>\n",
       "      <td>62.071399</td>\n",
       "    </tr>\n",
       "    <tr>\n",
       "      <th>2</th>\n",
       "      <td>Euro area</td>\n",
       "      <td>EMU</td>\n",
       "      <td>Life expectancy at birth, total (years)</td>\n",
       "      <td>SP.DYN.LE00.IN</td>\n",
       "      <td>1960</td>\n",
       "      <td>69.273711</td>\n",
       "      <td>Euro area</td>\n",
       "      <td>Mortality rate, infant (per 1,000 live births)</td>\n",
       "      <td>SP.DYN.IMRT.IN</td>\n",
       "      <td>38.868046</td>\n",
       "    </tr>\n",
       "    <tr>\n",
       "      <th>3</th>\n",
       "      <td>European Union</td>\n",
       "      <td>EUU</td>\n",
       "      <td>Life expectancy at birth, total (years)</td>\n",
       "      <td>SP.DYN.LE00.IN</td>\n",
       "      <td>1960</td>\n",
       "      <td>69.279544</td>\n",
       "      <td>European Union</td>\n",
       "      <td>Mortality rate, infant (per 1,000 live births)</td>\n",
       "      <td>SP.DYN.IMRT.IN</td>\n",
       "      <td>38.252879</td>\n",
       "    </tr>\n",
       "    <tr>\n",
       "      <th>4</th>\n",
       "      <td>High income</td>\n",
       "      <td>HIC</td>\n",
       "      <td>Life expectancy at birth, total (years)</td>\n",
       "      <td>SP.DYN.LE00.IN</td>\n",
       "      <td>1960</td>\n",
       "      <td>67.991498</td>\n",
       "      <td>High income</td>\n",
       "      <td>Mortality rate, infant (per 1,000 live births)</td>\n",
       "      <td>SP.DYN.IMRT.IN</td>\n",
       "      <td>37.000000</td>\n",
       "    </tr>\n",
       "  </tbody>\n",
       "</table>\n",
       "</div>"
      ],
      "text/plain": [
       "            CountryName_x CountryCode  \\\n",
       "0              Arab World         ARB   \n",
       "1  Caribbean small states         CSS   \n",
       "2               Euro area         EMU   \n",
       "3          European Union         EUU   \n",
       "4             High income         HIC   \n",
       "\n",
       "                           IndicatorName_x IndicatorCode_x  Year    Value_x  \\\n",
       "0  Life expectancy at birth, total (years)  SP.DYN.LE00.IN  1960  46.847059   \n",
       "1  Life expectancy at birth, total (years)  SP.DYN.LE00.IN  1960  62.271795   \n",
       "2  Life expectancy at birth, total (years)  SP.DYN.LE00.IN  1960  69.273711   \n",
       "3  Life expectancy at birth, total (years)  SP.DYN.LE00.IN  1960  69.279544   \n",
       "4  Life expectancy at birth, total (years)  SP.DYN.LE00.IN  1960  67.991498   \n",
       "\n",
       "            CountryName_y                                 IndicatorName_y  \\\n",
       "0              Arab World  Mortality rate, infant (per 1,000 live births)   \n",
       "1  Caribbean small states  Mortality rate, infant (per 1,000 live births)   \n",
       "2               Euro area  Mortality rate, infant (per 1,000 live births)   \n",
       "3          European Union  Mortality rate, infant (per 1,000 live births)   \n",
       "4             High income  Mortality rate, infant (per 1,000 live births)   \n",
       "\n",
       "  IndicatorCode_y     Value_y  \n",
       "0  SP.DYN.IMRT.IN  159.950234  \n",
       "1  SP.DYN.IMRT.IN   62.071399  \n",
       "2  SP.DYN.IMRT.IN   38.868046  \n",
       "3  SP.DYN.IMRT.IN   38.252879  \n",
       "4  SP.DYN.IMRT.IN   37.000000  "
      ]
     },
     "execution_count": 61,
     "metadata": {},
     "output_type": "execute_result"
    }
   ],
   "source": [
    "mortality_and_life_expectancy.head()"
   ]
  },
  {
   "cell_type": "code",
   "execution_count": 62,
   "metadata": {},
   "outputs": [],
   "source": [
    "mortality_and_life_expectancy=mortality_and_life_expectancy.drop(['IndicatorCode_x','CountryName_y','IndicatorCode_y'], axis=1)"
   ]
  },
  {
   "cell_type": "code",
   "execution_count": 63,
   "metadata": {},
   "outputs": [],
   "source": [
    "mapping = {'CountryName_x': 'CountryName','IndicatorName_x':'IndicatorName_Life_Expectancy',\n",
    "          'IndicatorName_y':'IndicatorName_Mortality_Rate','Value_x' : 'Life_Expectancy_Value','Value_y':'Mortality_Rate_Value'}\n",
    "\n",
    "mortality_and_life_expectancy.rename(columns=mapping, inplace=True)"
   ]
  },
  {
   "cell_type": "code",
   "execution_count": 64,
   "metadata": {},
   "outputs": [
    {
     "data": {
      "text/html": [
       "<div>\n",
       "<style scoped>\n",
       "    .dataframe tbody tr th:only-of-type {\n",
       "        vertical-align: middle;\n",
       "    }\n",
       "\n",
       "    .dataframe tbody tr th {\n",
       "        vertical-align: top;\n",
       "    }\n",
       "\n",
       "    .dataframe thead th {\n",
       "        text-align: right;\n",
       "    }\n",
       "</style>\n",
       "<table border=\"1\" class=\"dataframe\">\n",
       "  <thead>\n",
       "    <tr style=\"text-align: right;\">\n",
       "      <th></th>\n",
       "      <th>CountryName</th>\n",
       "      <th>CountryCode</th>\n",
       "      <th>IndicatorName_Life_Expectancy</th>\n",
       "      <th>Year</th>\n",
       "      <th>Life_Expectancy_Value</th>\n",
       "      <th>IndicatorName_Mortality_Rate</th>\n",
       "      <th>Mortality_Rate_Value</th>\n",
       "    </tr>\n",
       "  </thead>\n",
       "  <tbody>\n",
       "    <tr>\n",
       "      <th>0</th>\n",
       "      <td>Arab World</td>\n",
       "      <td>ARB</td>\n",
       "      <td>Life expectancy at birth, total (years)</td>\n",
       "      <td>1960</td>\n",
       "      <td>46.847059</td>\n",
       "      <td>Mortality rate, infant (per 1,000 live births)</td>\n",
       "      <td>159.950234</td>\n",
       "    </tr>\n",
       "    <tr>\n",
       "      <th>1</th>\n",
       "      <td>Caribbean small states</td>\n",
       "      <td>CSS</td>\n",
       "      <td>Life expectancy at birth, total (years)</td>\n",
       "      <td>1960</td>\n",
       "      <td>62.271795</td>\n",
       "      <td>Mortality rate, infant (per 1,000 live births)</td>\n",
       "      <td>62.071399</td>\n",
       "    </tr>\n",
       "    <tr>\n",
       "      <th>2</th>\n",
       "      <td>Euro area</td>\n",
       "      <td>EMU</td>\n",
       "      <td>Life expectancy at birth, total (years)</td>\n",
       "      <td>1960</td>\n",
       "      <td>69.273711</td>\n",
       "      <td>Mortality rate, infant (per 1,000 live births)</td>\n",
       "      <td>38.868046</td>\n",
       "    </tr>\n",
       "    <tr>\n",
       "      <th>3</th>\n",
       "      <td>European Union</td>\n",
       "      <td>EUU</td>\n",
       "      <td>Life expectancy at birth, total (years)</td>\n",
       "      <td>1960</td>\n",
       "      <td>69.279544</td>\n",
       "      <td>Mortality rate, infant (per 1,000 live births)</td>\n",
       "      <td>38.252879</td>\n",
       "    </tr>\n",
       "    <tr>\n",
       "      <th>4</th>\n",
       "      <td>High income</td>\n",
       "      <td>HIC</td>\n",
       "      <td>Life expectancy at birth, total (years)</td>\n",
       "      <td>1960</td>\n",
       "      <td>67.991498</td>\n",
       "      <td>Mortality rate, infant (per 1,000 live births)</td>\n",
       "      <td>37.000000</td>\n",
       "    </tr>\n",
       "  </tbody>\n",
       "</table>\n",
       "</div>"
      ],
      "text/plain": [
       "              CountryName CountryCode  \\\n",
       "0              Arab World         ARB   \n",
       "1  Caribbean small states         CSS   \n",
       "2               Euro area         EMU   \n",
       "3          European Union         EUU   \n",
       "4             High income         HIC   \n",
       "\n",
       "             IndicatorName_Life_Expectancy  Year  Life_Expectancy_Value  \\\n",
       "0  Life expectancy at birth, total (years)  1960              46.847059   \n",
       "1  Life expectancy at birth, total (years)  1960              62.271795   \n",
       "2  Life expectancy at birth, total (years)  1960              69.273711   \n",
       "3  Life expectancy at birth, total (years)  1960              69.279544   \n",
       "4  Life expectancy at birth, total (years)  1960              67.991498   \n",
       "\n",
       "                     IndicatorName_Mortality_Rate  Mortality_Rate_Value  \n",
       "0  Mortality rate, infant (per 1,000 live births)            159.950234  \n",
       "1  Mortality rate, infant (per 1,000 live births)             62.071399  \n",
       "2  Mortality rate, infant (per 1,000 live births)             38.868046  \n",
       "3  Mortality rate, infant (per 1,000 live births)             38.252879  \n",
       "4  Mortality rate, infant (per 1,000 live births)             37.000000  "
      ]
     },
     "execution_count": 64,
     "metadata": {},
     "output_type": "execute_result"
    }
   ],
   "source": [
    "mortality_and_life_expectancy.head()"
   ]
  },
  {
   "cell_type": "code",
   "execution_count": 65,
   "metadata": {},
   "outputs": [
    {
     "data": {
      "text/html": [
       "<div>\n",
       "<style scoped>\n",
       "    .dataframe tbody tr th:only-of-type {\n",
       "        vertical-align: middle;\n",
       "    }\n",
       "\n",
       "    .dataframe tbody tr th {\n",
       "        vertical-align: top;\n",
       "    }\n",
       "\n",
       "    .dataframe thead th {\n",
       "        text-align: right;\n",
       "    }\n",
       "</style>\n",
       "<table border=\"1\" class=\"dataframe\">\n",
       "  <thead>\n",
       "    <tr style=\"text-align: right;\">\n",
       "      <th></th>\n",
       "      <th>Year</th>\n",
       "      <th>Life_Expectancy_Value</th>\n",
       "      <th>Mortality_Rate_Value</th>\n",
       "    </tr>\n",
       "  </thead>\n",
       "  <tbody>\n",
       "    <tr>\n",
       "      <th>Year</th>\n",
       "      <td>1.000000</td>\n",
       "      <td>0.405254</td>\n",
       "      <td>-0.467738</td>\n",
       "    </tr>\n",
       "    <tr>\n",
       "      <th>Life_Expectancy_Value</th>\n",
       "      <td>0.405254</td>\n",
       "      <td>1.000000</td>\n",
       "      <td>-0.939712</td>\n",
       "    </tr>\n",
       "    <tr>\n",
       "      <th>Mortality_Rate_Value</th>\n",
       "      <td>-0.467738</td>\n",
       "      <td>-0.939712</td>\n",
       "      <td>1.000000</td>\n",
       "    </tr>\n",
       "  </tbody>\n",
       "</table>\n",
       "</div>"
      ],
      "text/plain": [
       "                           Year  Life_Expectancy_Value  Mortality_Rate_Value\n",
       "Year                   1.000000               0.405254             -0.467738\n",
       "Life_Expectancy_Value  0.405254               1.000000             -0.939712\n",
       "Mortality_Rate_Value  -0.467738              -0.939712              1.000000"
      ]
     },
     "execution_count": 65,
     "metadata": {},
     "output_type": "execute_result"
    }
   ],
   "source": [
    "mortality_and_life_expectancy.corr()"
   ]
  },
  {
   "cell_type": "markdown",
   "metadata": {},
   "source": [
    "#### The high negative value depicts an inverse relationship between the 2 attributes. "
   ]
  },
  {
   "cell_type": "code",
   "execution_count": 66,
   "metadata": {},
   "outputs": [
    {
     "data": {
      "text/plain": [
       "<AxesSubplot:title={'center':'Value'}, xlabel='Year'>"
      ]
     },
     "execution_count": 66,
     "metadata": {},
     "output_type": "execute_result"
    },
    {
     "data": {
      "image/png": "[encoded data removed]",
      "text/plain": [
       "<Figure size 1800x864 with 1 Axes>"
      ]
     },
     "metadata": {
      "needs_background": "light"
     },
     "output_type": "display_data"
    }
   ],
   "source": [
    "#Boxplot for exploring the range of mortality for all countries, for every year, individually, females\n",
    "mortality_rate_f.boxplot(column='Value', by ='Year',figsize=(25,12))"
   ]
  },
  {
   "cell_type": "code",
   "execution_count": 67,
   "metadata": {},
   "outputs": [
    {
     "data": {
      "text/plain": [
       "<AxesSubplot:title={'center':'Value'}, xlabel='Year'>"
      ]
     },
     "execution_count": 67,
     "metadata": {},
     "output_type": "execute_result"
    },
    {
     "data": {
      "image/png": "[encoded data removed]",
      "text/plain": [
       "<Figure size 1800x864 with 1 Axes>"
      ]
     },
     "metadata": {
      "needs_background": "light"
     },
     "output_type": "display_data"
    }
   ],
   "source": [
    "#Boxplot for exploring the range of mortality for all countries, for every year, individually, males\n",
    "mortality_rate_m.boxplot(column='Value', by ='Year',figsize=(25,12))"
   ]
  },
  {
   "cell_type": "code",
   "execution_count": 68,
   "metadata": {},
   "outputs": [
    {
     "data": {
      "text/plain": [
       "<AxesSubplot:title={'center':'Value'}, xlabel='Year'>"
      ]
     },
     "execution_count": 68,
     "metadata": {},
     "output_type": "execute_result"
    },
    {
     "data": {
      "image/png": "[encoded data removed]",
      "text/plain": [
       "<Figure size 1800x864 with 1 Axes>"
      ]
     },
     "metadata": {
      "needs_background": "light"
     },
     "output_type": "display_data"
    }
   ],
   "source": [
    "##Boxplot for exploring the range of mortality for all countries, for every year, individually, total population\n",
    "mortality_rate_total.boxplot(column='Value', by ='Year',figsize=(25,12), vert = True)"
   ]
  },
  {
   "cell_type": "code",
   "execution_count": 69,
   "metadata": {},
   "outputs": [],
   "source": [
    "#Function to fetch the outliers for all 3 groups, i.e, those that are below Q1-(1.5*IQR) and those above Q3+(1.5*IQR)\n",
    "\n",
    "df_outliers = pd.DataFrame()\n",
    "def find_data_outliers(df_bp):\n",
    "    Q1 = df_bp['Value'].quantile(0.25)\n",
    "    Q3 = df_bp['Value'].quantile(0.75)\n",
    "    Q2 = df_bp['Value'].quantile(0.50)\n",
    "    IQR = Q3 - Q1\n",
    "    df_outliers = df_bp[(df_bp['Value'] < Q1-(1.5*IQR)) | (df_bp['Value'] > Q3+(1.5*IQR))]\n",
    "    df_outliers['Min Whisker Value'] = Q1-(1.5*IQR)\n",
    "    df_outliers['Max Whisker Value'] = Q3+(1.5*IQR)\n",
    "    df_outliers['Median'] = Q2\n",
    "    df_outliers['Q1'] = Q1\n",
    "    df_outliers['Q3'] = Q3\n",
    "    return df_outliers"
   ]
  },
  {
   "cell_type": "code",
   "execution_count": 70,
   "metadata": {
    "scrolled": false
   },
   "outputs": [],
   "source": [
    "#Outliers for total population, grouped by year\n",
    "mortality_rate_total_outliers = mortality_rate_total.groupby('Year').apply(find_data_outliers)"
   ]
  },
  {
   "cell_type": "code",
   "execution_count": 71,
   "metadata": {},
   "outputs": [],
   "source": [
    "#Outliers for female population, grouped by year\n",
    "mortality_rate_f_outliers = mortality_rate_f.groupby('Year').apply(find_data_outliers)"
   ]
  },
  {
   "cell_type": "code",
   "execution_count": 72,
   "metadata": {
    "scrolled": false
   },
   "outputs": [],
   "source": [
    "#Outliers for male population, grouped by year\n",
    "mortality_rate_m_outliers = mortality_rate_m.groupby('Year').apply(find_data_outliers)"
   ]
  },
  {
   "cell_type": "code",
   "execution_count": 73,
   "metadata": {},
   "outputs": [
    {
     "data": {
      "text/plain": [
       "<AxesSubplot:title={'center':'Value'}, xlabel='Year'>"
      ]
     },
     "execution_count": 73,
     "metadata": {},
     "output_type": "execute_result"
    },
    {
     "data": {
      "image/png": "[encoded data removed]",
      "text/plain": [
       "<Figure size 1800x864 with 1 Axes>"
      ]
     },
     "metadata": {
      "needs_background": "light"
     },
     "output_type": "display_data"
    }
   ],
   "source": [
    "#Boxplot for exploring the range of values for life expectancy for all countries, for every year, individually, females\n",
    "life_expectancy_f.boxplot(column='Value', by ='Year',figsize=(25,12))"
   ]
  },
  {
   "cell_type": "code",
   "execution_count": 74,
   "metadata": {},
   "outputs": [
    {
     "data": {
      "text/plain": [
       "<AxesSubplot:title={'center':'Value'}, xlabel='Year'>"
      ]
     },
     "execution_count": 74,
     "metadata": {},
     "output_type": "execute_result"
    },
    {
     "data": {
      "image/png": "[encoded data removed]",
      "text/plain": [
       "<Figure size 1800x864 with 1 Axes>"
      ]
     },
     "metadata": {
      "needs_background": "light"
     },
     "output_type": "display_data"
    }
   ],
   "source": [
    "#Boxplot for exploring the range of values for life expectancy for all countries, for every year, individually, males\n",
    "life_expectancy_m.boxplot(column='Value', by ='Year',figsize=(25,12))"
   ]
  },
  {
   "cell_type": "code",
   "execution_count": 75,
   "metadata": {},
   "outputs": [
    {
     "data": {
      "text/plain": [
       "<AxesSubplot:title={'center':'Value'}, xlabel='Year'>"
      ]
     },
     "execution_count": 75,
     "metadata": {},
     "output_type": "execute_result"
    },
    {
     "data": {
      "image/png": "[encoded data removed]",
      "text/plain": [
       "<Figure size 1800x864 with 1 Axes>"
      ]
     },
     "metadata": {
      "needs_background": "light"
     },
     "output_type": "display_data"
    }
   ],
   "source": [
    "#Boxplot for exploring the range of values for life expectancy for all countries, for every year, individually, total population\n",
    "life_expectancy_total.boxplot(column='Value', by ='Year',figsize=(25,12))"
   ]
  },
  {
   "cell_type": "code",
   "execution_count": 76,
   "metadata": {},
   "outputs": [],
   "source": [
    "#Outliers for female population, grouped by year\n",
    "life_expectancy_f_outliers = life_expectancy_f.groupby('Year').apply(find_data_outliers)"
   ]
  },
  {
   "cell_type": "code",
   "execution_count": 77,
   "metadata": {},
   "outputs": [],
   "source": [
    "#Outliers for male population, grouped by year\n",
    "life_expectancy_m_outliers = life_expectancy_m.groupby('Year').apply(find_data_outliers)"
   ]
  },
  {
   "cell_type": "code",
   "execution_count": 78,
   "metadata": {},
   "outputs": [],
   "source": [
    "#Outliers for total population, grouped by year\n",
    "life_expectancy_total_outliers = life_expectancy_total.groupby('Year').apply(find_data_outliers)"
   ]
  },
  {
   "cell_type": "code",
   "execution_count": 79,
   "metadata": {},
   "outputs": [
    {
     "data": {
      "text/plain": [
       "array(['Cambodia', 'Sierra Leone', 'Rwanda', 'Zimbabwe', 'Lesotho',\n",
       "       'Central African Republic', 'Swaziland'], dtype=object)"
      ]
     },
     "execution_count": 79,
     "metadata": {},
     "output_type": "execute_result"
    }
   ],
   "source": [
    "#Checking unique countries present in the outlier dataframe for total population\n",
    "life_expectancy_total_outliers['CountryName'].unique()"
   ]
  },
  {
   "cell_type": "code",
   "execution_count": 80,
   "metadata": {},
   "outputs": [
    {
     "data": {
      "text/plain": [
       "array(['Cambodia', 'Rwanda', 'Sierra Leone', 'Zimbabwe', 'Lesotho'],\n",
       "      dtype=object)"
      ]
     },
     "execution_count": 80,
     "metadata": {},
     "output_type": "execute_result"
    }
   ],
   "source": [
    "#Checking unique countries present in the outlier dataframe for female population\n",
    "life_expectancy_f_outliers['CountryName'].unique()"
   ]
  },
  {
   "cell_type": "code",
   "execution_count": 81,
   "metadata": {},
   "outputs": [
    {
     "data": {
      "text/plain": [
       "array(['Cambodia', 'Sierra Leone', 'Angola', 'Rwanda'], dtype=object)"
      ]
     },
     "execution_count": 81,
     "metadata": {},
     "output_type": "execute_result"
    }
   ],
   "source": [
    "#Checking unique countries present in the outlier dataframe for male population\n",
    "life_expectancy_m_outliers['CountryName'].unique()"
   ]
  },
  {
   "cell_type": "code",
   "execution_count": 82,
   "metadata": {},
   "outputs": [
    {
     "data": {
      "text/plain": [
       "array(['Liberia', 'Sierra Leone', 'Angola', 'Central African Republic',\n",
       "       'Somalia', 'Chad'], dtype=object)"
      ]
     },
     "execution_count": 82,
     "metadata": {},
     "output_type": "execute_result"
    }
   ],
   "source": [
    "#Checking unique countries present in the outlier dataframe for total population\n",
    "mortality_rate_total_outliers['CountryName'].unique()"
   ]
  },
  {
   "cell_type": "code",
   "execution_count": 83,
   "metadata": {},
   "outputs": [
    {
     "data": {
      "text/plain": [
       "array(['Cambodia', 'Eritrea', 'Sierra Leone', 'Rwanda', 'Zambia',\n",
       "       'Uganda', 'Malawi', 'Zimbabwe', 'Botswana', 'Lesotho',\n",
       "       'Central African Republic', 'Kenya', 'Swaziland', 'Tanzania',\n",
       "       'South Africa', \"Cote d'Ivoire\", 'Namibia', 'Mozambique'],\n",
       "      dtype=object)"
      ]
     },
     "execution_count": 83,
     "metadata": {},
     "output_type": "execute_result"
    }
   ],
   "source": [
    "#Checking unique countries present in the outlier dataframe for female population\n",
    "mortality_rate_f_outliers['CountryName'].unique()"
   ]
  },
  {
   "cell_type": "code",
   "execution_count": 84,
   "metadata": {},
   "outputs": [
    {
     "data": {
      "text/plain": [
       "array(['Eritrea', 'Cambodia', 'Timor-Leste', 'Iran, Islamic Rep.',\n",
       "       'Rwanda', 'Sierra Leone', 'Uganda', 'Zambia', 'Malawi', 'Zimbabwe',\n",
       "       'Botswana', 'Lesotho', 'Swaziland', 'South Africa'], dtype=object)"
      ]
     },
     "execution_count": 84,
     "metadata": {},
     "output_type": "execute_result"
    }
   ],
   "source": [
    "#Checking unique countries present in the outlier dataframe for male population\n",
    "mortality_rate_m_outliers['CountryName'].unique()"
   ]
  },
  {
   "cell_type": "markdown",
   "metadata": {},
   "source": [
    "#### Taking a sample of one of the outlier countries, understanding why the values end up being outliers when stacked against the mean total life expectancy and mortality. \n",
    "#### Sierra Leone is present in all the outlier dataframes, hence using this as the sample case"
   ]
  },
  {
   "cell_type": "code",
   "execution_count": 85,
   "metadata": {},
   "outputs": [],
   "source": [
    "#Filtering the mortality rate for only Sierra Leone, for all years\n",
    "mortality_rate_sl = mortality_rate_total[mortality_rate_total['CountryName'] == \"Sierra Leone\"]"
   ]
  },
  {
   "cell_type": "code",
   "execution_count": 86,
   "metadata": {},
   "outputs": [
    {
     "data": {
      "text/plain": [
       "Text(0.5, 1.0, 'Mortality Mean Over the Years')"
      ]
     },
     "execution_count": 86,
     "metadata": {},
     "output_type": "execute_result"
    },
    {
     "data": {
      "image/png": "[encoded data removed]",
      "text/plain": [
       "<Figure size 432x288 with 1 Axes>"
      ]
     },
     "metadata": {
      "needs_background": "light"
     },
     "output_type": "display_data"
    }
   ],
   "source": [
    "#Plotting mortality rate of Sierra Leone against the mean for all years\n",
    "mortality_rate_total.groupby('Year')['Value'].mean().plot(label=\"Total\")\n",
    "mortality_rate_sl.groupby('Year')['Value'].mean().plot(label=\"Sierra Leone\")\n",
    "plt.xlabel(\"Year\")\n",
    "plt.ylabel(\"Mortality Rate Number\")\n",
    "plt.legend()\n",
    "plt.title(\"Mortality Mean Over the Years\")"
   ]
  },
  {
   "cell_type": "code",
   "execution_count": 87,
   "metadata": {},
   "outputs": [],
   "source": [
    "#Filtering the life expectancy rate for only Sierra Leone, for all years\n",
    "life_expectancy_sl = life_expectancy_total[life_expectancy_total['CountryName'] == \"Sierra Leone\"]"
   ]
  },
  {
   "cell_type": "code",
   "execution_count": 88,
   "metadata": {},
   "outputs": [
    {
     "data": {
      "text/plain": [
       "Text(0.5, 1.0, 'Life expectancy Mean Over the Years')"
      ]
     },
     "execution_count": 88,
     "metadata": {},
     "output_type": "execute_result"
    },
    {
     "data": {
      "image/png": "[encoded data removed]",
      "text/plain": [
       "<Figure size 432x288 with 1 Axes>"
      ]
     },
     "metadata": {
      "needs_background": "light"
     },
     "output_type": "display_data"
    }
   ],
   "source": [
    "#Plotting life expectancy rate of Sierra Leone against the mean for all years\n",
    "life_expectancy_total.groupby('Year')['Value'].mean().plot(label=\"Total\")\n",
    "life_expectancy_sl.groupby('Year')['Value'].mean().plot(label=\"Sierra Leone\")\n",
    "plt.xlabel(\"Year\")\n",
    "plt.ylabel(\"Mean of life expectancy number\")\n",
    "plt.legend()\n",
    "plt.title(\"Life expectancy Mean Over the Years\")"
   ]
  },
  {
   "cell_type": "markdown",
   "metadata": {},
   "source": [
    "#### The life expectancy of Sierra Leone, can be observed to not cross 55 years of age. Essentially then, not a high % of the population there, should survive to the age of 65 (Available Indicator in Dataset)"
   ]
  },
  {
   "cell_type": "code",
   "execution_count": 89,
   "metadata": {},
   "outputs": [],
   "source": [
    "#Checking survival to age 65 for Sierra Leone for male and female population\n",
    "survival_to_age_65_f_sl = df[(df['IndicatorName'] == \"Survival to age 65, female (% of cohort)\") & (df['CountryName'] == \"Sierra Leone\")]\n",
    "survival_to_age_65_m_sl = df[(df['IndicatorName'] == \"Survival to age 65, male (% of cohort)\") & (df['CountryName'] == \"Sierra Leone\")]"
   ]
  },
  {
   "cell_type": "code",
   "execution_count": 90,
   "metadata": {},
   "outputs": [
    {
     "data": {
      "text/plain": [
       "Text(0.5, 1.0, 'Survival of Females and Males in Sierra Leone to age 65')"
      ]
     },
     "execution_count": 90,
     "metadata": {},
     "output_type": "execute_result"
    },
    {
     "data": {
      "image/png": "[encoded data removed]",
      "text/plain": [
       "<Figure size 432x288 with 1 Axes>"
      ]
     },
     "metadata": {
      "needs_background": "light"
     },
     "output_type": "display_data"
    }
   ],
   "source": [
    "#Plotting this survival number\n",
    "plt.plot(survival_to_age_65_f_sl['Year'].values, survival_to_age_65_f_sl['Value'].values)\n",
    "plt.plot(survival_to_age_65_m_sl['Year'].values, survival_to_age_65_m_sl['Value'].values)\n",
    "plt.xlabel(\"Year\")\n",
    "plt.ylabel(\"Survival to age 65 over the years\")\n",
    "plt.legend([\"Female\",\"Male\"])\n",
    "plt.title(\"Survival of Females and Males in Sierra Leone to age 65\")"
   ]
  },
  {
   "cell_type": "markdown",
   "metadata": {},
   "source": [
    "#### The graph peaks at just a tip over 40, which indicates that upto 2014, the population surviving to the age of 65 in Sierra Leone is 0"
   ]
  },
  {
   "cell_type": "code",
   "execution_count": 91,
   "metadata": {},
   "outputs": [],
   "source": [
    "#Verifying this by checking the count of population over 65\n",
    "population_ages_65_above_sl = df[(df['IndicatorName'] == \"Population ages 65 and above (% of total)\") & (df['CountryCode'] == \"Sierra Leone\")]"
   ]
  },
  {
   "cell_type": "code",
   "execution_count": 92,
   "metadata": {},
   "outputs": [
    {
     "data": {
      "text/html": [
       "<div>\n",
       "<style scoped>\n",
       "    .dataframe tbody tr th:only-of-type {\n",
       "        vertical-align: middle;\n",
       "    }\n",
       "\n",
       "    .dataframe tbody tr th {\n",
       "        vertical-align: top;\n",
       "    }\n",
       "\n",
       "    .dataframe thead th {\n",
       "        text-align: right;\n",
       "    }\n",
       "</style>\n",
       "<table border=\"1\" class=\"dataframe\">\n",
       "  <thead>\n",
       "    <tr style=\"text-align: right;\">\n",
       "      <th></th>\n",
       "      <th>CountryName</th>\n",
       "      <th>CountryCode</th>\n",
       "      <th>IndicatorName</th>\n",
       "      <th>IndicatorCode</th>\n",
       "      <th>Year</th>\n",
       "      <th>Value</th>\n",
       "    </tr>\n",
       "  </thead>\n",
       "  <tbody>\n",
       "  </tbody>\n",
       "</table>\n",
       "</div>"
      ],
      "text/plain": [
       "Empty DataFrame\n",
       "Columns: [CountryName, CountryCode, IndicatorName, IndicatorCode, Year, Value]\n",
       "Index: []"
      ]
     },
     "execution_count": 92,
     "metadata": {},
     "output_type": "execute_result"
    }
   ],
   "source": [
    "population_ages_65_above_sl.head()"
   ]
  },
  {
   "cell_type": "markdown",
   "metadata": {},
   "source": [
    "#### There exists no outlier to this data. Upto 2014, no one has survived till the age of 65 in Sierra Leone"
   ]
  },
  {
   "cell_type": "markdown",
   "metadata": {},
   "source": [
    "#### Now checking if the reverse can hold true, i.e, if the population above 65 is rising, then so will life expectancy"
   ]
  },
  {
   "cell_type": "code",
   "execution_count": 94,
   "metadata": {},
   "outputs": [
    {
     "data": {
      "text/html": [
       "<div>\n",
       "<style scoped>\n",
       "    .dataframe tbody tr th:only-of-type {\n",
       "        vertical-align: middle;\n",
       "    }\n",
       "\n",
       "    .dataframe tbody tr th {\n",
       "        vertical-align: top;\n",
       "    }\n",
       "\n",
       "    .dataframe thead th {\n",
       "        text-align: right;\n",
       "    }\n",
       "</style>\n",
       "<table border=\"1\" class=\"dataframe\">\n",
       "  <thead>\n",
       "    <tr style=\"text-align: right;\">\n",
       "      <th></th>\n",
       "      <th>CountryName</th>\n",
       "      <th>CountryCode</th>\n",
       "      <th>IndicatorName</th>\n",
       "      <th>IndicatorCode</th>\n",
       "      <th>Year</th>\n",
       "      <th>Value</th>\n",
       "    </tr>\n",
       "  </thead>\n",
       "  <tbody>\n",
       "    <tr>\n",
       "      <th>67</th>\n",
       "      <td>Arab World</td>\n",
       "      <td>ARB</td>\n",
       "      <td>Population ages 65 and above (% of total)</td>\n",
       "      <td>SP.POP.65UP.TO.ZS</td>\n",
       "      <td>1960</td>\n",
       "      <td>3.535465</td>\n",
       "    </tr>\n",
       "    <tr>\n",
       "      <th>146</th>\n",
       "      <td>Caribbean small states</td>\n",
       "      <td>CSS</td>\n",
       "      <td>Population ages 65 and above (% of total)</td>\n",
       "      <td>SP.POP.65UP.TO.ZS</td>\n",
       "      <td>1960</td>\n",
       "      <td>4.141187</td>\n",
       "    </tr>\n",
       "    <tr>\n",
       "      <th>216</th>\n",
       "      <td>Central Europe and the Baltics</td>\n",
       "      <td>CEB</td>\n",
       "      <td>Population ages 65 and above (% of total)</td>\n",
       "      <td>SP.POP.65UP.TO.ZS</td>\n",
       "      <td>1960</td>\n",
       "      <td>7.207827</td>\n",
       "    </tr>\n",
       "    <tr>\n",
       "      <th>336</th>\n",
       "      <td>East Asia &amp; Pacific (all income levels)</td>\n",
       "      <td>EAS</td>\n",
       "      <td>Population ages 65 and above (% of total)</td>\n",
       "      <td>SP.POP.65UP.TO.ZS</td>\n",
       "      <td>1960</td>\n",
       "      <td>3.878393</td>\n",
       "    </tr>\n",
       "    <tr>\n",
       "      <th>457</th>\n",
       "      <td>East Asia &amp; Pacific (developing only)</td>\n",
       "      <td>EAP</td>\n",
       "      <td>Population ages 65 and above (% of total)</td>\n",
       "      <td>SP.POP.65UP.TO.ZS</td>\n",
       "      <td>1960</td>\n",
       "      <td>3.631579</td>\n",
       "    </tr>\n",
       "  </tbody>\n",
       "</table>\n",
       "</div>"
      ],
      "text/plain": [
       "                                 CountryName CountryCode  \\\n",
       "67                                Arab World         ARB   \n",
       "146                   Caribbean small states         CSS   \n",
       "216           Central Europe and the Baltics         CEB   \n",
       "336  East Asia & Pacific (all income levels)         EAS   \n",
       "457    East Asia & Pacific (developing only)         EAP   \n",
       "\n",
       "                                 IndicatorName      IndicatorCode  Year  \\\n",
       "67   Population ages 65 and above (% of total)  SP.POP.65UP.TO.ZS  1960   \n",
       "146  Population ages 65 and above (% of total)  SP.POP.65UP.TO.ZS  1960   \n",
       "216  Population ages 65 and above (% of total)  SP.POP.65UP.TO.ZS  1960   \n",
       "336  Population ages 65 and above (% of total)  SP.POP.65UP.TO.ZS  1960   \n",
       "457  Population ages 65 and above (% of total)  SP.POP.65UP.TO.ZS  1960   \n",
       "\n",
       "        Value  \n",
       "67   3.535465  \n",
       "146  4.141187  \n",
       "216  7.207827  \n",
       "336  3.878393  \n",
       "457  3.631579  "
      ]
     },
     "execution_count": 94,
     "metadata": {},
     "output_type": "execute_result"
    }
   ],
   "source": [
    "#Filtering population above 65 (% of total) indicator data\n",
    "population_ages_65_above = df[df['IndicatorName'] == \"Population ages 65 and above (% of total)\"]\n",
    "population_ages_65_above.head()"
   ]
  },
  {
   "cell_type": "code",
   "execution_count": 95,
   "metadata": {},
   "outputs": [
    {
     "data": {
      "text/html": [
       "<div>\n",
       "<style scoped>\n",
       "    .dataframe tbody tr th:only-of-type {\n",
       "        vertical-align: middle;\n",
       "    }\n",
       "\n",
       "    .dataframe tbody tr th {\n",
       "        vertical-align: top;\n",
       "    }\n",
       "\n",
       "    .dataframe thead th {\n",
       "        text-align: right;\n",
       "    }\n",
       "</style>\n",
       "<table border=\"1\" class=\"dataframe\">\n",
       "  <thead>\n",
       "    <tr style=\"text-align: right;\">\n",
       "      <th></th>\n",
       "      <th>CountryName</th>\n",
       "      <th>CountryCode</th>\n",
       "      <th>IndicatorName</th>\n",
       "      <th>IndicatorCode</th>\n",
       "      <th>Year</th>\n",
       "      <th>Value</th>\n",
       "    </tr>\n",
       "  </thead>\n",
       "  <tbody>\n",
       "    <tr>\n",
       "      <th>73</th>\n",
       "      <td>Arab World</td>\n",
       "      <td>ARB</td>\n",
       "      <td>Population, total</td>\n",
       "      <td>SP.POP.TOTL</td>\n",
       "      <td>1960</td>\n",
       "      <td>9.249590e+07</td>\n",
       "    </tr>\n",
       "    <tr>\n",
       "      <th>150</th>\n",
       "      <td>Caribbean small states</td>\n",
       "      <td>CSS</td>\n",
       "      <td>Population, total</td>\n",
       "      <td>SP.POP.TOTL</td>\n",
       "      <td>1960</td>\n",
       "      <td>4.190810e+06</td>\n",
       "    </tr>\n",
       "    <tr>\n",
       "      <th>221</th>\n",
       "      <td>Central Europe and the Baltics</td>\n",
       "      <td>CEB</td>\n",
       "      <td>Population, total</td>\n",
       "      <td>SP.POP.TOTL</td>\n",
       "      <td>1960</td>\n",
       "      <td>9.140158e+07</td>\n",
       "    </tr>\n",
       "    <tr>\n",
       "      <th>341</th>\n",
       "      <td>East Asia &amp; Pacific (all income levels)</td>\n",
       "      <td>EAS</td>\n",
       "      <td>Population, total</td>\n",
       "      <td>SP.POP.TOTL</td>\n",
       "      <td>1960</td>\n",
       "      <td>1.042475e+09</td>\n",
       "    </tr>\n",
       "    <tr>\n",
       "      <th>462</th>\n",
       "      <td>East Asia &amp; Pacific (developing only)</td>\n",
       "      <td>EAP</td>\n",
       "      <td>Population, total</td>\n",
       "      <td>SP.POP.TOTL</td>\n",
       "      <td>1960</td>\n",
       "      <td>8.964930e+08</td>\n",
       "    </tr>\n",
       "  </tbody>\n",
       "</table>\n",
       "</div>"
      ],
      "text/plain": [
       "                                 CountryName CountryCode      IndicatorName  \\\n",
       "73                                Arab World         ARB  Population, total   \n",
       "150                   Caribbean small states         CSS  Population, total   \n",
       "221           Central Europe and the Baltics         CEB  Population, total   \n",
       "341  East Asia & Pacific (all income levels)         EAS  Population, total   \n",
       "462    East Asia & Pacific (developing only)         EAP  Population, total   \n",
       "\n",
       "    IndicatorCode  Year         Value  \n",
       "73    SP.POP.TOTL  1960  9.249590e+07  \n",
       "150   SP.POP.TOTL  1960  4.190810e+06  \n",
       "221   SP.POP.TOTL  1960  9.140158e+07  \n",
       "341   SP.POP.TOTL  1960  1.042475e+09  \n",
       "462   SP.POP.TOTL  1960  8.964930e+08  "
      ]
     },
     "execution_count": 95,
     "metadata": {},
     "output_type": "execute_result"
    }
   ],
   "source": [
    "#Filtering total popoulation, to convert % to number\n",
    "population_total = df[df['IndicatorName'] == \"Population, total\"]\n",
    "population_total.head()"
   ]
  },
  {
   "cell_type": "code",
   "execution_count": 33,
   "metadata": {},
   "outputs": [],
   "source": [
    "#Joining both dataframes to get numeric value of population, per country, per year\n",
    "population_above_65_and_total = population_total.merge(population_ages_65_above, on = ['CountryCode','Year'], how = \"inner\")"
   ]
  },
  {
   "cell_type": "code",
   "execution_count": 34,
   "metadata": {},
   "outputs": [],
   "source": [
    "population_above_65_and_total=population_above_65_and_total.drop(['IndicatorCode_x','CountryName_y','IndicatorCode_y'], axis=1)"
   ]
  },
  {
   "cell_type": "code",
   "execution_count": 35,
   "metadata": {},
   "outputs": [],
   "source": [
    "mapping = {'CountryName_x': 'CountryName','IndicatorName_x':'Population_Total',\n",
    "          'IndicatorName_y':'Population_65_And_Above','Value_x' : 'Population_Total_Value','Value_y':'Population_65_And_Above_Percentage'}\n",
    "\n",
    "population_above_65_and_total.rename(columns=mapping, inplace=True)"
   ]
  },
  {
   "cell_type": "code",
   "execution_count": 36,
   "metadata": {},
   "outputs": [
    {
     "data": {
      "text/html": [
       "<div>\n",
       "<style scoped>\n",
       "    .dataframe tbody tr th:only-of-type {\n",
       "        vertical-align: middle;\n",
       "    }\n",
       "\n",
       "    .dataframe tbody tr th {\n",
       "        vertical-align: top;\n",
       "    }\n",
       "\n",
       "    .dataframe thead th {\n",
       "        text-align: right;\n",
       "    }\n",
       "</style>\n",
       "<table border=\"1\" class=\"dataframe\">\n",
       "  <thead>\n",
       "    <tr style=\"text-align: right;\">\n",
       "      <th></th>\n",
       "      <th>CountryName</th>\n",
       "      <th>CountryCode</th>\n",
       "      <th>Population_Total</th>\n",
       "      <th>Year</th>\n",
       "      <th>Population_Total_Value</th>\n",
       "      <th>Population_65_And_Above</th>\n",
       "      <th>Population_65_And_Above_Percentage</th>\n",
       "    </tr>\n",
       "  </thead>\n",
       "  <tbody>\n",
       "    <tr>\n",
       "      <th>0</th>\n",
       "      <td>Arab World</td>\n",
       "      <td>ARB</td>\n",
       "      <td>Population, total</td>\n",
       "      <td>1960</td>\n",
       "      <td>9.249590e+07</td>\n",
       "      <td>Population ages 65 and above (% of total)</td>\n",
       "      <td>3.535465</td>\n",
       "    </tr>\n",
       "    <tr>\n",
       "      <th>1</th>\n",
       "      <td>Caribbean small states</td>\n",
       "      <td>CSS</td>\n",
       "      <td>Population, total</td>\n",
       "      <td>1960</td>\n",
       "      <td>4.190810e+06</td>\n",
       "      <td>Population ages 65 and above (% of total)</td>\n",
       "      <td>4.141187</td>\n",
       "    </tr>\n",
       "    <tr>\n",
       "      <th>2</th>\n",
       "      <td>Central Europe and the Baltics</td>\n",
       "      <td>CEB</td>\n",
       "      <td>Population, total</td>\n",
       "      <td>1960</td>\n",
       "      <td>9.140158e+07</td>\n",
       "      <td>Population ages 65 and above (% of total)</td>\n",
       "      <td>7.207827</td>\n",
       "    </tr>\n",
       "    <tr>\n",
       "      <th>3</th>\n",
       "      <td>East Asia &amp; Pacific (all income levels)</td>\n",
       "      <td>EAS</td>\n",
       "      <td>Population, total</td>\n",
       "      <td>1960</td>\n",
       "      <td>1.042475e+09</td>\n",
       "      <td>Population ages 65 and above (% of total)</td>\n",
       "      <td>3.878393</td>\n",
       "    </tr>\n",
       "    <tr>\n",
       "      <th>4</th>\n",
       "      <td>East Asia &amp; Pacific (developing only)</td>\n",
       "      <td>EAP</td>\n",
       "      <td>Population, total</td>\n",
       "      <td>1960</td>\n",
       "      <td>8.964930e+08</td>\n",
       "      <td>Population ages 65 and above (% of total)</td>\n",
       "      <td>3.631579</td>\n",
       "    </tr>\n",
       "  </tbody>\n",
       "</table>\n",
       "</div>"
      ],
      "text/plain": [
       "                               CountryName CountryCode   Population_Total  \\\n",
       "0                               Arab World         ARB  Population, total   \n",
       "1                   Caribbean small states         CSS  Population, total   \n",
       "2           Central Europe and the Baltics         CEB  Population, total   \n",
       "3  East Asia & Pacific (all income levels)         EAS  Population, total   \n",
       "4    East Asia & Pacific (developing only)         EAP  Population, total   \n",
       "\n",
       "   Year  Population_Total_Value                    Population_65_And_Above  \\\n",
       "0  1960            9.249590e+07  Population ages 65 and above (% of total)   \n",
       "1  1960            4.190810e+06  Population ages 65 and above (% of total)   \n",
       "2  1960            9.140158e+07  Population ages 65 and above (% of total)   \n",
       "3  1960            1.042475e+09  Population ages 65 and above (% of total)   \n",
       "4  1960            8.964930e+08  Population ages 65 and above (% of total)   \n",
       "\n",
       "   Population_65_And_Above_Percentage  \n",
       "0                            3.535465  \n",
       "1                            4.141187  \n",
       "2                            7.207827  \n",
       "3                            3.878393  \n",
       "4                            3.631579  "
      ]
     },
     "execution_count": 36,
     "metadata": {},
     "output_type": "execute_result"
    }
   ],
   "source": [
    "population_above_65_and_total.head()"
   ]
  },
  {
   "cell_type": "code",
   "execution_count": 97,
   "metadata": {},
   "outputs": [],
   "source": [
    "#Adding new column to store population count\n",
    "population_above_65_and_total['Total_Pop_Above_65'] = population_above_65_and_total['Population_Total_Value']*(population_above_65_and_total['Population_65_And_Above_Percentage']/100)"
   ]
  },
  {
   "cell_type": "code",
   "execution_count": 98,
   "metadata": {},
   "outputs": [
    {
     "data": {
      "text/html": [
       "<div>\n",
       "<style scoped>\n",
       "    .dataframe tbody tr th:only-of-type {\n",
       "        vertical-align: middle;\n",
       "    }\n",
       "\n",
       "    .dataframe tbody tr th {\n",
       "        vertical-align: top;\n",
       "    }\n",
       "\n",
       "    .dataframe thead th {\n",
       "        text-align: right;\n",
       "    }\n",
       "</style>\n",
       "<table border=\"1\" class=\"dataframe\">\n",
       "  <thead>\n",
       "    <tr style=\"text-align: right;\">\n",
       "      <th></th>\n",
       "      <th>CountryName</th>\n",
       "      <th>CountryCode</th>\n",
       "      <th>Population_Total</th>\n",
       "      <th>Year</th>\n",
       "      <th>Population_Total_Value</th>\n",
       "      <th>Population_65_And_Above</th>\n",
       "      <th>Population_65_And_Above_Percentage</th>\n",
       "      <th>Total_Pop_Above_65</th>\n",
       "    </tr>\n",
       "  </thead>\n",
       "  <tbody>\n",
       "    <tr>\n",
       "      <th>0</th>\n",
       "      <td>Arab World</td>\n",
       "      <td>ARB</td>\n",
       "      <td>Population, total</td>\n",
       "      <td>1960</td>\n",
       "      <td>9.249590e+07</td>\n",
       "      <td>Population ages 65 and above (% of total)</td>\n",
       "      <td>3.535465</td>\n",
       "      <td>3.270160e+06</td>\n",
       "    </tr>\n",
       "    <tr>\n",
       "      <th>1</th>\n",
       "      <td>Caribbean small states</td>\n",
       "      <td>CSS</td>\n",
       "      <td>Population, total</td>\n",
       "      <td>1960</td>\n",
       "      <td>4.190810e+06</td>\n",
       "      <td>Population ages 65 and above (% of total)</td>\n",
       "      <td>4.141187</td>\n",
       "      <td>1.735493e+05</td>\n",
       "    </tr>\n",
       "    <tr>\n",
       "      <th>2</th>\n",
       "      <td>Central Europe and the Baltics</td>\n",
       "      <td>CEB</td>\n",
       "      <td>Population, total</td>\n",
       "      <td>1960</td>\n",
       "      <td>9.140158e+07</td>\n",
       "      <td>Population ages 65 and above (% of total)</td>\n",
       "      <td>7.207827</td>\n",
       "      <td>6.588068e+06</td>\n",
       "    </tr>\n",
       "    <tr>\n",
       "      <th>3</th>\n",
       "      <td>East Asia &amp; Pacific (all income levels)</td>\n",
       "      <td>EAS</td>\n",
       "      <td>Population, total</td>\n",
       "      <td>1960</td>\n",
       "      <td>1.042475e+09</td>\n",
       "      <td>Population ages 65 and above (% of total)</td>\n",
       "      <td>3.878393</td>\n",
       "      <td>4.043129e+07</td>\n",
       "    </tr>\n",
       "    <tr>\n",
       "      <th>4</th>\n",
       "      <td>East Asia &amp; Pacific (developing only)</td>\n",
       "      <td>EAP</td>\n",
       "      <td>Population, total</td>\n",
       "      <td>1960</td>\n",
       "      <td>8.964930e+08</td>\n",
       "      <td>Population ages 65 and above (% of total)</td>\n",
       "      <td>3.631579</td>\n",
       "      <td>3.255685e+07</td>\n",
       "    </tr>\n",
       "  </tbody>\n",
       "</table>\n",
       "</div>"
      ],
      "text/plain": [
       "                               CountryName CountryCode   Population_Total  \\\n",
       "0                               Arab World         ARB  Population, total   \n",
       "1                   Caribbean small states         CSS  Population, total   \n",
       "2           Central Europe and the Baltics         CEB  Population, total   \n",
       "3  East Asia & Pacific (all income levels)         EAS  Population, total   \n",
       "4    East Asia & Pacific (developing only)         EAP  Population, total   \n",
       "\n",
       "   Year  Population_Total_Value                    Population_65_And_Above  \\\n",
       "0  1960            9.249590e+07  Population ages 65 and above (% of total)   \n",
       "1  1960            4.190810e+06  Population ages 65 and above (% of total)   \n",
       "2  1960            9.140158e+07  Population ages 65 and above (% of total)   \n",
       "3  1960            1.042475e+09  Population ages 65 and above (% of total)   \n",
       "4  1960            8.964930e+08  Population ages 65 and above (% of total)   \n",
       "\n",
       "   Population_65_And_Above_Percentage  Total_Pop_Above_65  \n",
       "0                            3.535465        3.270160e+06  \n",
       "1                            4.141187        1.735493e+05  \n",
       "2                            7.207827        6.588068e+06  \n",
       "3                            3.878393        4.043129e+07  \n",
       "4                            3.631579        3.255685e+07  "
      ]
     },
     "execution_count": 98,
     "metadata": {},
     "output_type": "execute_result"
    }
   ],
   "source": [
    "population_above_65_and_total.head()"
   ]
  },
  {
   "cell_type": "code",
   "execution_count": 99,
   "metadata": {},
   "outputs": [
    {
     "data": {
      "text/plain": [
       "Text(0.5, 1.0, 'Population over age of 65 sum for all countries')"
      ]
     },
     "execution_count": 99,
     "metadata": {},
     "output_type": "execute_result"
    },
    {
     "data": {
      "image/png": "[encoded data removed]",
      "text/plain": [
       "<Figure size 432x288 with 1 Axes>"
      ]
     },
     "metadata": {
      "needs_background": "light"
     },
     "output_type": "display_data"
    }
   ],
   "source": [
    "#Plot population over 65 count over the years\n",
    "plt.plot(population_above_65_and_total.groupby('Year')['Total_Pop_Above_65'].sum())\n",
    "plt.xlabel(\"Year\")\n",
    "plt.ylabel(\"Population over age of 65 sum\")\n",
    "\n",
    "plt.title(\"Population over age of 65 sum for all countries\")"
   ]
  },
  {
   "cell_type": "code",
   "execution_count": 100,
   "metadata": {},
   "outputs": [],
   "source": [
    "#Checking for the Pearson's Coe-fficient between population over 65 and life expectancy\n",
    "population_over_65_life_expectancy_total = life_expectancy_total.merge(population_above_65_and_total, on = ['CountryCode','Year'], how = \"inner\")"
   ]
  },
  {
   "cell_type": "code",
   "execution_count": 101,
   "metadata": {},
   "outputs": [
    {
     "data": {
      "text/html": [
       "<div>\n",
       "<style scoped>\n",
       "    .dataframe tbody tr th:only-of-type {\n",
       "        vertical-align: middle;\n",
       "    }\n",
       "\n",
       "    .dataframe tbody tr th {\n",
       "        vertical-align: top;\n",
       "    }\n",
       "\n",
       "    .dataframe thead th {\n",
       "        text-align: right;\n",
       "    }\n",
       "</style>\n",
       "<table border=\"1\" class=\"dataframe\">\n",
       "  <thead>\n",
       "    <tr style=\"text-align: right;\">\n",
       "      <th></th>\n",
       "      <th>CountryName_x</th>\n",
       "      <th>CountryCode</th>\n",
       "      <th>IndicatorName</th>\n",
       "      <th>IndicatorCode</th>\n",
       "      <th>Year</th>\n",
       "      <th>Value</th>\n",
       "      <th>CountryName_y</th>\n",
       "      <th>Population_Total</th>\n",
       "      <th>Population_Total_Value</th>\n",
       "      <th>Population_65_And_Above</th>\n",
       "      <th>Population_65_And_Above_Percentage</th>\n",
       "      <th>Total_Pop_Above_65</th>\n",
       "    </tr>\n",
       "  </thead>\n",
       "  <tbody>\n",
       "    <tr>\n",
       "      <th>0</th>\n",
       "      <td>Arab World</td>\n",
       "      <td>ARB</td>\n",
       "      <td>Life expectancy at birth, total (years)</td>\n",
       "      <td>SP.DYN.LE00.IN</td>\n",
       "      <td>1960</td>\n",
       "      <td>46.847059</td>\n",
       "      <td>Arab World</td>\n",
       "      <td>Population, total</td>\n",
       "      <td>9.249590e+07</td>\n",
       "      <td>Population ages 65 and above (% of total)</td>\n",
       "      <td>3.535465</td>\n",
       "      <td>3.270160e+06</td>\n",
       "    </tr>\n",
       "    <tr>\n",
       "      <th>1</th>\n",
       "      <td>Caribbean small states</td>\n",
       "      <td>CSS</td>\n",
       "      <td>Life expectancy at birth, total (years)</td>\n",
       "      <td>SP.DYN.LE00.IN</td>\n",
       "      <td>1960</td>\n",
       "      <td>62.271795</td>\n",
       "      <td>Caribbean small states</td>\n",
       "      <td>Population, total</td>\n",
       "      <td>4.190810e+06</td>\n",
       "      <td>Population ages 65 and above (% of total)</td>\n",
       "      <td>4.141187</td>\n",
       "      <td>1.735493e+05</td>\n",
       "    </tr>\n",
       "    <tr>\n",
       "      <th>2</th>\n",
       "      <td>Central Europe and the Baltics</td>\n",
       "      <td>CEB</td>\n",
       "      <td>Life expectancy at birth, total (years)</td>\n",
       "      <td>SP.DYN.LE00.IN</td>\n",
       "      <td>1960</td>\n",
       "      <td>67.823762</td>\n",
       "      <td>Central Europe and the Baltics</td>\n",
       "      <td>Population, total</td>\n",
       "      <td>9.140158e+07</td>\n",
       "      <td>Population ages 65 and above (% of total)</td>\n",
       "      <td>7.207827</td>\n",
       "      <td>6.588068e+06</td>\n",
       "    </tr>\n",
       "    <tr>\n",
       "      <th>3</th>\n",
       "      <td>East Asia &amp; Pacific (all income levels)</td>\n",
       "      <td>EAS</td>\n",
       "      <td>Life expectancy at birth, total (years)</td>\n",
       "      <td>SP.DYN.LE00.IN</td>\n",
       "      <td>1960</td>\n",
       "      <td>48.298317</td>\n",
       "      <td>East Asia &amp; Pacific (all income levels)</td>\n",
       "      <td>Population, total</td>\n",
       "      <td>1.042475e+09</td>\n",
       "      <td>Population ages 65 and above (% of total)</td>\n",
       "      <td>3.878393</td>\n",
       "      <td>4.043129e+07</td>\n",
       "    </tr>\n",
       "    <tr>\n",
       "      <th>4</th>\n",
       "      <td>East Asia &amp; Pacific (developing only)</td>\n",
       "      <td>EAP</td>\n",
       "      <td>Life expectancy at birth, total (years)</td>\n",
       "      <td>SP.DYN.LE00.IN</td>\n",
       "      <td>1960</td>\n",
       "      <td>45.549658</td>\n",
       "      <td>East Asia &amp; Pacific (developing only)</td>\n",
       "      <td>Population, total</td>\n",
       "      <td>8.964930e+08</td>\n",
       "      <td>Population ages 65 and above (% of total)</td>\n",
       "      <td>3.631579</td>\n",
       "      <td>3.255685e+07</td>\n",
       "    </tr>\n",
       "  </tbody>\n",
       "</table>\n",
       "</div>"
      ],
      "text/plain": [
       "                             CountryName_x CountryCode  \\\n",
       "0                               Arab World         ARB   \n",
       "1                   Caribbean small states         CSS   \n",
       "2           Central Europe and the Baltics         CEB   \n",
       "3  East Asia & Pacific (all income levels)         EAS   \n",
       "4    East Asia & Pacific (developing only)         EAP   \n",
       "\n",
       "                             IndicatorName   IndicatorCode  Year      Value  \\\n",
       "0  Life expectancy at birth, total (years)  SP.DYN.LE00.IN  1960  46.847059   \n",
       "1  Life expectancy at birth, total (years)  SP.DYN.LE00.IN  1960  62.271795   \n",
       "2  Life expectancy at birth, total (years)  SP.DYN.LE00.IN  1960  67.823762   \n",
       "3  Life expectancy at birth, total (years)  SP.DYN.LE00.IN  1960  48.298317   \n",
       "4  Life expectancy at birth, total (years)  SP.DYN.LE00.IN  1960  45.549658   \n",
       "\n",
       "                             CountryName_y   Population_Total  \\\n",
       "0                               Arab World  Population, total   \n",
       "1                   Caribbean small states  Population, total   \n",
       "2           Central Europe and the Baltics  Population, total   \n",
       "3  East Asia & Pacific (all income levels)  Population, total   \n",
       "4    East Asia & Pacific (developing only)  Population, total   \n",
       "\n",
       "   Population_Total_Value                    Population_65_And_Above  \\\n",
       "0            9.249590e+07  Population ages 65 and above (% of total)   \n",
       "1            4.190810e+06  Population ages 65 and above (% of total)   \n",
       "2            9.140158e+07  Population ages 65 and above (% of total)   \n",
       "3            1.042475e+09  Population ages 65 and above (% of total)   \n",
       "4            8.964930e+08  Population ages 65 and above (% of total)   \n",
       "\n",
       "   Population_65_And_Above_Percentage  Total_Pop_Above_65  \n",
       "0                            3.535465        3.270160e+06  \n",
       "1                            4.141187        1.735493e+05  \n",
       "2                            7.207827        6.588068e+06  \n",
       "3                            3.878393        4.043129e+07  \n",
       "4                            3.631579        3.255685e+07  "
      ]
     },
     "execution_count": 101,
     "metadata": {},
     "output_type": "execute_result"
    }
   ],
   "source": [
    "population_over_65_life_expectancy_total.head()"
   ]
  },
  {
   "cell_type": "code",
   "execution_count": 102,
   "metadata": {},
   "outputs": [
    {
     "data": {
      "text/html": [
       "<div>\n",
       "<style scoped>\n",
       "    .dataframe tbody tr th:only-of-type {\n",
       "        vertical-align: middle;\n",
       "    }\n",
       "\n",
       "    .dataframe tbody tr th {\n",
       "        vertical-align: top;\n",
       "    }\n",
       "\n",
       "    .dataframe thead th {\n",
       "        text-align: right;\n",
       "    }\n",
       "</style>\n",
       "<table border=\"1\" class=\"dataframe\">\n",
       "  <thead>\n",
       "    <tr style=\"text-align: right;\">\n",
       "      <th></th>\n",
       "      <th>Year</th>\n",
       "      <th>Value</th>\n",
       "      <th>Population_Total_Value</th>\n",
       "      <th>Population_65_And_Above_Percentage</th>\n",
       "      <th>Total_Pop_Above_65</th>\n",
       "    </tr>\n",
       "  </thead>\n",
       "  <tbody>\n",
       "    <tr>\n",
       "      <th>Year</th>\n",
       "      <td>1.000000</td>\n",
       "      <td>0.422217</td>\n",
       "      <td>0.066610</td>\n",
       "      <td>0.229948</td>\n",
       "      <td>0.100281</td>\n",
       "    </tr>\n",
       "    <tr>\n",
       "      <th>Value</th>\n",
       "      <td>0.422217</td>\n",
       "      <td>1.000000</td>\n",
       "      <td>0.042515</td>\n",
       "      <td>0.670638</td>\n",
       "      <td>0.120260</td>\n",
       "    </tr>\n",
       "    <tr>\n",
       "      <th>Population_Total_Value</th>\n",
       "      <td>0.066610</td>\n",
       "      <td>0.042515</td>\n",
       "      <td>1.000000</td>\n",
       "      <td>0.013786</td>\n",
       "      <td>0.942036</td>\n",
       "    </tr>\n",
       "    <tr>\n",
       "      <th>Population_65_And_Above_Percentage</th>\n",
       "      <td>0.229948</td>\n",
       "      <td>0.670638</td>\n",
       "      <td>0.013786</td>\n",
       "      <td>1.000000</td>\n",
       "      <td>0.126378</td>\n",
       "    </tr>\n",
       "    <tr>\n",
       "      <th>Total_Pop_Above_65</th>\n",
       "      <td>0.100281</td>\n",
       "      <td>0.120260</td>\n",
       "      <td>0.942036</td>\n",
       "      <td>0.126378</td>\n",
       "      <td>1.000000</td>\n",
       "    </tr>\n",
       "  </tbody>\n",
       "</table>\n",
       "</div>"
      ],
      "text/plain": [
       "                                        Year     Value  \\\n",
       "Year                                1.000000  0.422217   \n",
       "Value                               0.422217  1.000000   \n",
       "Population_Total_Value              0.066610  0.042515   \n",
       "Population_65_And_Above_Percentage  0.229948  0.670638   \n",
       "Total_Pop_Above_65                  0.100281  0.120260   \n",
       "\n",
       "                                    Population_Total_Value  \\\n",
       "Year                                              0.066610   \n",
       "Value                                             0.042515   \n",
       "Population_Total_Value                            1.000000   \n",
       "Population_65_And_Above_Percentage                0.013786   \n",
       "Total_Pop_Above_65                                0.942036   \n",
       "\n",
       "                                    Population_65_And_Above_Percentage  \\\n",
       "Year                                                          0.229948   \n",
       "Value                                                         0.670638   \n",
       "Population_Total_Value                                        0.013786   \n",
       "Population_65_And_Above_Percentage                            1.000000   \n",
       "Total_Pop_Above_65                                            0.126378   \n",
       "\n",
       "                                    Total_Pop_Above_65  \n",
       "Year                                          0.100281  \n",
       "Value                                         0.120260  \n",
       "Population_Total_Value                        0.942036  \n",
       "Population_65_And_Above_Percentage            0.126378  \n",
       "Total_Pop_Above_65                            1.000000  "
      ]
     },
     "execution_count": 102,
     "metadata": {},
     "output_type": "execute_result"
    }
   ],
   "source": [
    "#Calculation correlation between population count and life expectancy\n",
    "population_over_65_life_expectancy_total.corr()"
   ]
  },
  {
   "cell_type": "markdown",
   "metadata": {},
   "source": [
    "#### Not possible to conclude that life expectancy rate and % of population over 65 are directly proportional"
   ]
  },
  {
   "cell_type": "code",
   "execution_count": null,
   "metadata": {},
   "outputs": [],
   "source": []
  }
 ],
 "metadata": {
  "kernelspec": {
   "display_name": "Python 3",
   "language": "python",
   "name": "python3"
  },
  "language_info": {
   "codemirror_mode": {
    "name": "ipython",
    "version": 3
   },
   "file_extension": ".py",
   "mimetype": "text/x-python",
   "name": "python",
   "nbconvert_exporter": "python",
   "pygments_lexer": "ipython3",
   "version": "3.8.5"
  }
 },
 "nbformat": 4,
 "nbformat_minor": 4
}
